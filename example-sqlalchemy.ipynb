{
 "cells": [
  {
   "cell_type": "markdown",
   "metadata": {},
   "source": [
    "Using SQLAlchemy to Talk to a Database - Retrieving Medi\n",
    "=====================\n",
    "SqlAlchemy helps you use a database to store and retrieve information from python.  It abstracts the specific storage engine from te way you use it - so it doesn't care if you end up using MySQL, SQLite, or whatever else. In addition, you can use core and the object-relational mapper (ORM) to avoid writing any SQL at all.  The [SQLAlchemy homepage](http://www.sqlalchemy.org/) has lots of good examples and full documentation."
   ]
  },
  {
   "cell_type": "code",
   "execution_count": 9,
   "metadata": {},
   "outputs": [
    {
     "name": "stdout",
     "output_type": "stream",
     "text": [
      "{'num': 188172, 'word': 'clinton'}\n",
      "{'num': 2693967, 'word': 'trump'}\n"
     ]
    }
   ],
   "source": [
    "from sqlalchemy import *\n",
    "# Mediacloud\n",
    "import mediacloud\n",
    "import json\n",
    "import os\n",
    "from config import Config\n",
    "\n",
    "f = file(os.getcwd() + '/settings.config')\n",
    "cfg = Config(f)\n",
    "\n",
    "# set up a mediacloud api client\n",
    "mc = mediacloud.api.MediaCloud(cfg.api)\n",
    "\n",
    "import datetime\n",
    "\n",
    "word1 = 'clinton'\n",
    "response = mc.sentenceCount(word1, solr_filter=[mc.publish_date_query( datetime.date( 2017, 1, 1), datetime.date( 2017, 12, 31) ), 'tags_id_media:1' ])\n",
    "answerClinton = {'word': word1, 'num': response['count']}\n",
    "print(answerClinton)\n",
    "\n",
    "word2 = 'trump'\n",
    "response = mc.sentenceCount(word2, solr_filter=[mc.publish_date_query( datetime.date( 2017, 1, 1), datetime.date( 2017, 12, 31) ), 'tags_id_media:1' ])\n",
    "answerTrump = {'word': word2, 'num': response['count']}\n",
    "print(answerTrump)"
   ]
  },
  {
   "cell_type": "markdown",
   "metadata": {},
   "source": [
    "## Basic SQL Generation\n",
    "The core library generates SQL for you.  Read more about it on their [expression language tutorial page](http://docs.sqlalchemy.org/en/rel_1_0/core/index.html). Below are some basic examples."
   ]
  },
  {
   "cell_type": "markdown",
   "metadata": {},
   "source": [
    "### Creating a Table\n",
    "Read more about [defining and creating tables](http://docs.sqlalchemy.org/en/rel_1_0/core/tutorial.html#define-and-create-tables)."
   ]
  },
  {
   "cell_type": "code",
   "execution_count": 11,
   "metadata": {},
   "outputs": [
    {
     "name": "stdout",
     "output_type": "stream",
     "text": [
      "2017-12-14 19:57:41,127 INFO sqlalchemy.engine.base.Engine SELECT CAST('test plain returns' AS VARCHAR(60)) AS anon_1\n",
      "2017-12-14 19:57:41,129 INFO sqlalchemy.engine.base.Engine ()\n",
      "2017-12-14 19:57:41,130 INFO sqlalchemy.engine.base.Engine SELECT CAST('test unicode returns' AS VARCHAR(60)) AS anon_1\n",
      "2017-12-14 19:57:41,132 INFO sqlalchemy.engine.base.Engine ()\n",
      "2017-12-14 19:57:41,133 INFO sqlalchemy.engine.base.Engine PRAGMA table_info(\"words\")\n",
      "2017-12-14 19:57:41,135 INFO sqlalchemy.engine.base.Engine ()\n",
      "2017-12-14 19:57:41,136 INFO sqlalchemy.engine.base.Engine PRAGMA table_info(\"queries\")\n",
      "2017-12-14 19:57:41,138 INFO sqlalchemy.engine.base.Engine ()\n",
      "2017-12-14 19:57:41,140 INFO sqlalchemy.engine.base.Engine \n",
      "CREATE TABLE words (\n",
      "\tid INTEGER NOT NULL, \n",
      "\tword VARCHAR(100) NOT NULL, \n",
      "\tnum INTEGER, \n",
      "\ttimestamp DATETIME, \n",
      "\tPRIMARY KEY (id)\n",
      ")\n",
      "\n",
      "\n",
      "2017-12-14 19:57:41,141 INFO sqlalchemy.engine.base.Engine ()\n",
      "2017-12-14 19:57:41,143 INFO sqlalchemy.engine.base.Engine COMMIT\n",
      "2017-12-14 19:57:41,144 INFO sqlalchemy.engine.base.Engine \n",
      "CREATE TABLE queries (\n",
      "\tid INTEGER NOT NULL, \n",
      "\tword VARCHAR(100) NOT NULL, \n",
      "\tnum INTEGER, \n",
      "\ttimestamp DATETIME, \n",
      "\tPRIMARY KEY (id)\n",
      ")\n",
      "\n",
      "\n",
      "2017-12-14 19:57:41,146 INFO sqlalchemy.engine.base.Engine ()\n",
      "2017-12-14 19:57:41,148 INFO sqlalchemy.engine.base.Engine COMMIT\n"
     ]
    }
   ],
   "source": [
    "# add `echo=True` to see log statements of all the SQL that is generated\n",
    "engine = create_engine('sqlite:///:memory:',echo=True) # just save the db in memory for now (ie. not on disk)\n",
    "metadata = MetaData()\n",
    "\n",
    "# define a table to use\n",
    "queries = Table('queries', metadata,\n",
    "    Column('id', Integer, primary_key=True),\n",
    "    Column('word', String(100), nullable=False),\n",
    "    Column('num', Integer, nullable=True),\n",
    "    Column('timestamp', DateTime, default=datetime.datetime.now),\n",
    ")\n",
    "\n",
    "words = Table('words', metadata,\n",
    "    Column('id', Integer, primary_key=True),\n",
    "    Column('word', String(100), nullable=False),\n",
    "    Column('num', Integer, nullable=True),\n",
    "    Column('timestamp', DateTime, default=datetime.datetime.now),\n",
    ")\n",
    "metadata.create_all(engine) # and create the tables in the database\n",
    "\n",
    "database = engine.connect()"
   ]
  },
  {
   "cell_type": "markdown",
   "metadata": {},
   "source": [
    "### Inserting Data\n",
    "Read more about generating [SQL insert statements](http://docs.sqlalchemy.org/en/rel_1_0/core/tutorial.html#insert-expressions)."
   ]
  },
  {
   "cell_type": "code",
   "execution_count": 19,
   "metadata": {},
   "outputs": [
    {
     "name": "stdout",
     "output_type": "stream",
     "text": [
      "2017-12-14 20:01:09,466 INFO sqlalchemy.engine.base.Engine INSERT INTO words (word, num, timestamp) VALUES (?, ?, ?)\n",
      "2017-12-14 20:01:09,467 INFO sqlalchemy.engine.base.Engine ('clinton', 188172, '2017-12-14 20:01:09.465757')\n",
      "2017-12-14 20:01:09,469 INFO sqlalchemy.engine.base.Engine COMMIT\n",
      "2017-12-14 20:01:09,471 INFO sqlalchemy.engine.base.Engine INSERT INTO words (word, num, timestamp) VALUES (?, ?, ?)\n",
      "2017-12-14 20:01:09,472 INFO sqlalchemy.engine.base.Engine ('trump', 2693967, '2017-12-14 20:01:09.471130')\n",
      "2017-12-14 20:01:09,474 INFO sqlalchemy.engine.base.Engine COMMIT\n"
     ]
    }
   ],
   "source": [
    "#insert_stmt = queries.insert()\n",
    "#str(insert_stmt) # see an example of what this will do\n",
    "database = engine.connect()\n",
    "# Insert count per keyword\n",
    "insert_stmt = words.insert().values([answerClinton])\n",
    "result = database.execute(insert_stmt)\n",
    "\n",
    "insert_stmt = words.insert().values([answerTrump])\n",
    "result = database.execute(insert_stmt)\n"
   ]
  },
  {
   "cell_type": "code",
   "execution_count": 21,
   "metadata": {},
   "outputs": [
    {
     "name": "stdout",
     "output_type": "stream",
     "text": [
      "2017-12-14 20:04:46,446 INFO sqlalchemy.engine.base.Engine SELECT words.id, words.word, words.num, words.timestamp \n",
      "FROM words\n",
      "2017-12-14 20:04:46,447 INFO sqlalchemy.engine.base.Engine ()\n",
      "The sum of the number of sentences for all the queries saved in the db is 2882139.\n"
     ]
    }
   ],
   "source": [
    "from sqlalchemy.sql import select\n",
    "\n",
    "res = database.execute(select([words]))\n",
    "\n",
    "tot = 0\n",
    "\n",
    "for item in res:\n",
    "    tot += item.num\n",
    "   \n",
    "print('The sum of the number of sentences for all the queries saved in the db is {}.'.format(tot))"
   ]
  }
 ],
 "metadata": {
  "kernelspec": {
   "display_name": "Python 2",
   "language": "python",
   "name": "python2"
  },
  "language_info": {
   "codemirror_mode": {
    "name": "ipython",
    "version": 2
   },
   "file_extension": ".py",
   "mimetype": "text/x-python",
   "name": "python",
   "nbconvert_exporter": "python",
   "pygments_lexer": "ipython2",
   "version": "2.7.10"
  }
 },
 "nbformat": 4,
 "nbformat_minor": 1
}
